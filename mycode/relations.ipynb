{
 "cells": [
  {
   "cell_type": "code",
   "execution_count": 2,
   "id": "dafe4a2c-7fdd-46c9-b973-792f64ba5674",
   "metadata": {},
   "outputs": [],
   "source": [
    "relations = '''r000 on\n",
    "r001 behind\n",
    "r002 in_front_of\n",
    "r003 on_the_side_of\n",
    "r004 above\n",
    "r005 beneath\n",
    "r006 drinking_from\n",
    "r007 have_it_on_the_back\n",
    "r008 wearing\n",
    "r009 holding\n",
    "r010 lying_on\n",
    "r011 covered_by\n",
    "r012 carrying\n",
    "r013 eating\n",
    "r014 leaning_on\n",
    "r015 sitting_on\n",
    "r016 twisting\n",
    "r017 writing_on\n",
    "r018 standing_on\n",
    "r019 touching\n",
    "r020 wiping\n",
    "r021 at\n",
    "r022 under\n",
    "r023 near'''"
   ]
  },
  {
   "cell_type": "code",
   "execution_count": 3,
   "id": "c9f38668-7802-4415-a27c-37725e479b32",
   "metadata": {},
   "outputs": [],
   "source": [
    "relist = []\n",
    "for rel in relations.split('\\n'):\n",
    "    relist.append(rel.split()[1])"
   ]
  },
  {
   "cell_type": "code",
   "execution_count": 4,
   "id": "0e2c064c-6b67-4ce7-a416-9f5d3cbb7098",
   "metadata": {},
   "outputs": [
    {
     "data": {
      "text/plain": [
       "['on',\n",
       " 'behind',\n",
       " 'in_front_of',\n",
       " 'on_the_side_of',\n",
       " 'above',\n",
       " 'beneath',\n",
       " 'drinking_from',\n",
       " 'have_it_on_the_back',\n",
       " 'wearing',\n",
       " 'holding',\n",
       " 'lying_on',\n",
       " 'covered_by',\n",
       " 'carrying',\n",
       " 'eating',\n",
       " 'leaning_on',\n",
       " 'sitting_on',\n",
       " 'twisting',\n",
       " 'writing_on',\n",
       " 'standing_on',\n",
       " 'touching',\n",
       " 'wiping',\n",
       " 'at',\n",
       " 'under',\n",
       " 'near']"
      ]
     },
     "execution_count": 4,
     "metadata": {},
     "output_type": "execute_result"
    }
   ],
   "source": [
    "relist"
   ]
  },
  {
   "cell_type": "code",
   "execution_count": 5,
   "id": "25ac6117-91a4-47f2-a9cd-cabfa3960298",
   "metadata": {},
   "outputs": [
    {
     "data": {
      "text/plain": [
       "'on, behind, in_front_of, on_the_side_of, above, beneath, drinking_from, have_it_on_the_back, wearing, holding, lying_on, covered_by, carrying, eating, leaning_on, sitting_on, twisting, writing_on, standing_on, touching, wiping, at, under, near'"
      ]
     },
     "execution_count": 5,
     "metadata": {},
     "output_type": "execute_result"
    }
   ],
   "source": [
    "', '.join(relist)"
   ]
  },
  {
   "cell_type": "code",
   "execution_count": null,
   "id": "c4b90769-732c-4320-bd1c-ac259678c7d0",
   "metadata": {},
   "outputs": [],
   "source": []
  }
 ],
 "metadata": {
  "kernelspec": {
   "display_name": "seg2",
   "language": "python",
   "name": "seg2"
  },
  "language_info": {
   "codemirror_mode": {
    "name": "ipython",
    "version": 3
   },
   "file_extension": ".py",
   "mimetype": "text/x-python",
   "name": "python",
   "nbconvert_exporter": "python",
   "pygments_lexer": "ipython3",
   "version": "3.8.18"
  }
 },
 "nbformat": 4,
 "nbformat_minor": 5
}
