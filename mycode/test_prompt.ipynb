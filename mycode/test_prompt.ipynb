{
 "cells": [
  {
   "cell_type": "code",
   "execution_count": 11,
   "id": "192e2463-2bfc-4970-b304-4638b6c274af",
   "metadata": {},
   "outputs": [],
   "source": [
    "import json\n",
    "import sng_parser\n",
    "from pprint import pprint"
   ]
  },
  {
   "cell_type": "code",
   "execution_count": 2,
   "id": "b8c2d25c-3442-48cc-8254-9b677cfbe48c",
   "metadata": {},
   "outputs": [],
   "source": [
    "annotations = json.load(open('mapping.json', 'r'))"
   ]
  },
  {
   "cell_type": "code",
   "execution_count": 6,
   "id": "b3dfe74b-5398-408a-b123-c0a577603e17",
   "metadata": {},
   "outputs": [
    {
     "data": {
      "text/plain": [
       "{'bbox': [[222.1, 143.83, 479.88, 244.94], [24.3, 71.44, 259.24, 268.2]],\n",
       " 'bbox_labels': ['o006', 'o000'],\n",
       " 'rel_pairs': [['person', 'table']],\n",
       " 'rel_labels': ['in_front_of'],\n",
       " 'actions': ['sit at a table']}"
      ]
     },
     "execution_count": 6,
     "metadata": {},
     "output_type": "execute_result"
    }
   ],
   "source": [
    "annotations['001YG']['000089']"
   ]
  },
  {
   "cell_type": "code",
   "execution_count": 8,
   "id": "7f3d8161-d0e3-431f-8544-6962f0a3e06f",
   "metadata": {},
   "outputs": [
    {
     "data": {
      "text/plain": [
       "'laptop, table, chair, pillow, blanket towel, cup / glass / bottle, pillow, phone / television, person, cup / glass / bottle, paper notebook box book, television, sofa couch, cup / glass /, clothes towel, bed'"
      ]
     },
     "execution_count": 8,
     "metadata": {},
     "output_type": "execute_result"
    }
   ],
   "source": [
    "results = ['laptop',\n",
    " 'table',\n",
    " 'chair',\n",
    " 'pillow',\n",
    " 'blanket towel',\n",
    " 'cup / glass / bottle',\n",
    " 'pillow',\n",
    " 'phone / television',\n",
    " 'person',\n",
    " 'cup / glass / bottle',\n",
    " 'paper notebook box book',\n",
    " 'television',\n",
    " 'sofa couch',\n",
    " 'cup / glass /',\n",
    " 'clothes towel',\n",
    " 'bed']\n",
    "\n",
    "', '.join(results)"
   ]
  },
  {
   "cell_type": "code",
   "execution_count": 13,
   "id": "24300c1e-24de-429f-b1b1-9647fe01698e",
   "metadata": {},
   "outputs": [
    {
     "name": "stdout",
     "output_type": "stream",
     "text": [
      "Entities:\n",
      "+--------------+-------------------------------------------+--------------------------+\n",
      "| Head         | Span                                      | Modifiers                |\n",
      "|--------------+-------------------------------------------+--------------------------|\n",
      "| image        | the image                                 | the                      |\n",
      "| person       | a person                                  | a                        |\n",
      "| chair        | a chair                                   | a                        |\n",
      "| desk         | a desk                                    | a                        |\n",
      "| which        | which                                     |                          |\n",
      "| laptop       | a laptop                                  | a                        |\n",
      "| it           | it                                        |                          |\n",
      "| desk         | the desk                                  | the                      |\n",
      "| bedroom      | a bedroom                                 | a                        |\n",
      "| bed          | a bed                                     | a                        |\n",
      "| room         | the room                                  | the                      |\n",
      "| television   | a television                              | a                        |\n",
      "| sofa         | a sofa                                    | a                        |\n",
      "| bottle       | a bottle                                  | a                        |\n",
      "| person       | the person                                | the                      |\n",
      "| shirt        | a blue shirt                              | a,blue                   |\n",
      "| hat          | a hat                                     | a                        |\n",
      "| cell phone   | a cell phone                              | a                        |\n",
      "| desk         | the desk                                  | the                      |\n",
      "| control      | a remote control                          | a,remote                 |\n",
      "| room         | the room                                  | the                      |\n",
      "| towel        | a towel                                   | a                        |\n",
      "| book         | a book                                    | a                        |\n",
      "| desk         | the desk                                  | the                      |\n",
      "| scene        | the overall scene                         | the,overall              |\n",
      "| living space | a comfortable and functional living space | a,comfortable,functional |\n",
      "| person       | the person                                | the                      |\n",
      "| themselves   | themselves                                |                          |\n",
      "+--------------+-------------------------------------------+--------------------------+\n",
      "Relations:\n",
      "+------------+------------+--------------+\n",
      "| Subject    | Relation   | Object       |\n",
      "|------------+------------+--------------|\n",
      "| person     | in         | image        |\n",
      "| person     | sitting in | chair        |\n",
      "| person     | at         | desk         |\n",
      "| which      | has        | laptop       |\n",
      "| laptop     | on         | it           |\n",
      "| room       | contains   | television   |\n",
      "| room       | contains   | sofa         |\n",
      "| person     | wearing    | shirt        |\n",
      "| person     | wearing    | hat          |\n",
      "| cell phone | on         | desk         |\n",
      "| scene      | suggests   | living space |\n",
      "+------------+------------+--------------+\n"
     ]
    }
   ],
   "source": [
    "# prompt: Find relations among these objects as detail as possible: laptop, table, chair, pillow, blanket towel, bottle, phone, person,paper, television, sofa,clothes, bed\n",
    "\n",
    "llava_return = 'In the image, a person is sitting in a chair at a desk, which has a laptop on it. \\\n",
    "                The desk is located in a bedroom, and there is a bed nearby. The room also contains a television, a sofa, and a bottle. \\\n",
    "                The person is wearing a blue shirt and a hat. There is a cell phone on the desk, and a remote control is also present in the room. A towel is hanging nearby, \\\n",
    "                and a book can be seen on the desk. The overall scene suggests a comfortable and functional living space for the person to work, relax, and entertain themselves.'\n",
    "\n",
    "graph = sng_parser.parse(llava_return)\n",
    "# pprint(graph)\n",
    "sng_parser.tprint(graph)"
   ]
  },
  {
   "cell_type": "code",
   "execution_count": null,
   "id": "7dcb4eb1-b018-45a7-9f89-d179dada9da5",
   "metadata": {},
   "outputs": [],
   "source": []
  }
 ],
 "metadata": {
  "kernelspec": {
   "display_name": "seg2",
   "language": "python",
   "name": "seg2"
  },
  "language_info": {
   "codemirror_mode": {
    "name": "ipython",
    "version": 3
   },
   "file_extension": ".py",
   "mimetype": "text/x-python",
   "name": "python",
   "nbconvert_exporter": "python",
   "pygments_lexer": "ipython3",
   "version": "3.8.18"
  }
 },
 "nbformat": 4,
 "nbformat_minor": 5
}
