{
 "cells": [
  {
   "cell_type": "code",
   "execution_count": 1,
   "id": "192e2463-2bfc-4970-b304-4638b6c274af",
   "metadata": {},
   "outputs": [],
   "source": [
    "import json\n",
    "import sng_parser\n",
    "from pprint import pprint"
   ]
  },
  {
   "cell_type": "code",
   "execution_count": 2,
   "id": "b8c2d25c-3442-48cc-8254-9b677cfbe48c",
   "metadata": {},
   "outputs": [],
   "source": [
    "annotations = json.load(open('mapping.json', 'r'))"
   ]
  },
  {
   "cell_type": "code",
   "execution_count": 3,
   "id": "b3dfe74b-5398-408a-b123-c0a577603e17",
   "metadata": {},
   "outputs": [
    {
     "data": {
      "text/plain": [
       "{'bbox': [[222.1, 143.83, 479.88, 244.94], [24.3, 71.44, 259.24, 268.2]],\n",
       " 'bbox_labels': ['table', 'person'],\n",
       " 'rel_pairs': [['person', 'table']],\n",
       " 'rel_labels': ['in_front_of'],\n",
       " 'actions': ['sit at a table']}"
      ]
     },
     "execution_count": 3,
     "metadata": {},
     "output_type": "execute_result"
    }
   ],
   "source": [
    "annotations['001YG']['000089']"
   ]
  },
  {
   "cell_type": "code",
   "execution_count": 4,
   "id": "7f3d8161-d0e3-431f-8544-6962f0a3e06f",
   "metadata": {},
   "outputs": [
    {
     "data": {
      "text/plain": [
       "'laptop, table, chair, pillow, blanket towel, cup / glass / bottle, pillow, phone / television, person, cup / glass / bottle, paper notebook box book, television, sofa couch, cup / glass /, clothes towel, bed'"
      ]
     },
     "execution_count": 4,
     "metadata": {},
     "output_type": "execute_result"
    }
   ],
   "source": [
    "results = ['laptop',\n",
    " 'table',\n",
    " 'chair',\n",
    " 'pillow',\n",
    " 'blanket towel',\n",
    " 'cup / glass / bottle',\n",
    " 'pillow',\n",
    " 'phone / television',\n",
    " 'person',\n",
    " 'cup / glass / bottle',\n",
    " 'paper notebook box book',\n",
    " 'television',\n",
    " 'sofa couch',\n",
    " 'cup / glass /',\n",
    " 'clothes towel',\n",
    " 'bed']\n",
    "\n",
    "', '.join(results)"
   ]
  },
  {
   "cell_type": "code",
   "execution_count": 5,
   "id": "24300c1e-24de-429f-b1b1-9647fe01698e",
   "metadata": {},
   "outputs": [
    {
     "name": "stdout",
     "output_type": "stream",
     "text": [
      "Entities:\n",
      "+--------------+-------------------------------------------+--------------------------+\n",
      "| Head         | Span                                      | Modifiers                |\n",
      "|--------------+-------------------------------------------+--------------------------|\n",
      "| image        | the image                                 | the                      |\n",
      "| person       | a person                                  | a                        |\n",
      "| chair        | a chair                                   | a                        |\n",
      "| desk         | a desk                                    | a                        |\n",
      "| which        | which                                     |                          |\n",
      "| laptop       | a laptop                                  | a                        |\n",
      "| it           | it                                        |                          |\n",
      "| desk         | the desk                                  | the                      |\n",
      "| bedroom      | a bedroom                                 | a                        |\n",
      "| bed          | a bed                                     | a                        |\n",
      "| room         | the room                                  | the                      |\n",
      "| television   | a television                              | a                        |\n",
      "| sofa         | a sofa                                    | a                        |\n",
      "| bottle       | a bottle                                  | a                        |\n",
      "| person       | the person                                | the                      |\n",
      "| shirt        | a blue shirt                              | a,blue                   |\n",
      "| hat          | a hat                                     | a                        |\n",
      "| cell phone   | a cell phone                              | a                        |\n",
      "| desk         | the desk                                  | the                      |\n",
      "| control      | a remote control                          | a,remote                 |\n",
      "| room         | the room                                  | the                      |\n",
      "| towel        | a towel                                   | a                        |\n",
      "| book         | a book                                    | a                        |\n",
      "| desk         | the desk                                  | the                      |\n",
      "| scene        | the overall scene                         | the,overall              |\n",
      "| living space | a comfortable and functional living space | a,comfortable,functional |\n",
      "| person       | the person                                | the                      |\n",
      "| themselves   | themselves                                |                          |\n",
      "+--------------+-------------------------------------------+--------------------------+\n",
      "Relations:\n",
      "+------------+------------+--------------+\n",
      "| Subject    | Relation   | Object       |\n",
      "|------------+------------+--------------|\n",
      "| person     | in         | image        |\n",
      "| person     | sitting in | chair        |\n",
      "| person     | at         | desk         |\n",
      "| which      | has        | laptop       |\n",
      "| laptop     | on         | it           |\n",
      "| room       | contains   | television   |\n",
      "| room       | contains   | sofa         |\n",
      "| person     | wearing    | shirt        |\n",
      "| person     | wearing    | hat          |\n",
      "| cell phone | on         | desk         |\n",
      "| scene      | suggests   | living space |\n",
      "+------------+------------+--------------+\n"
     ]
    }
   ],
   "source": [
    "# prompt: Find relations among these objects as detail as possible: laptop, table, chair, pillow, blanket towel, bottle, phone, person,paper, television, sofa,clothes, bed\n",
    "\n",
    "llava_return = 'In the image, a person is sitting in a chair at a desk, which has a laptop on it. \\\n",
    "                The desk is located in a bedroom, and there is a bed nearby. The room also contains a television, a sofa, and a bottle. \\\n",
    "                The person is wearing a blue shirt and a hat. There is a cell phone on the desk, and a remote control is also present in the room. A towel is hanging nearby, \\\n",
    "                and a book can be seen on the desk. The overall scene suggests a comfortable and functional living space for the person to work, relax, and entertain themselves.'\n",
    "\n",
    "graph = sng_parser.parse(llava_return)\n",
    "# pprint(graph)\n",
    "sng_parser.tprint(graph)"
   ]
  },
  {
   "cell_type": "raw",
   "id": "0d1c71cb-5c90-4c43-a929-5b282d4cd89f",
   "metadata": {},
   "source": [
    "Generate all possible tuples (Entity, Relation, Entity) from quoted text which is describing an image. The tuples show relations between two entities in the sentences. The relation are limited in following array:\n",
    "\n",
    "[on, behind, in_front_of, on_the_side_of, above, beneath, drinking_from, have_it_on_the_back, wearing, holding, lying_on, covered_by, carrying, eating, leaning_on, sitting_on, twisting, writing_on, standing_on, touching, wiping, at, under, near]\n",
    "\n",
    "For example:\n",
    "\n",
    "Input test: \"In the image, the woman sits on the bed near a pillow\".\n",
    "Output: (woman, on, bed)\n",
    "        (woman, near, pillow)\n",
    "\n",
    "Now, generate tuples of relation for me with this input text:\n",
    "\n",
    "\"In the image, a person is sitting in a chair at a desk, which has a laptop on it. The desk is located in a bedroom, and there is a bed nearby. The room also contains a television, a sofa, and a bottle. The person is wearing a blue shirt and a hat. There is a cell phone on the desk, and a remote control is also present in the room. A towel is hanging nearby, and a book can be seen on the desk. The overall scene suggests a comfortable and functional living space for the person to work, relax, and entertain themselves.\""
   ]
  },
  {
   "cell_type": "raw",
   "id": "95d00612-c1b5-408a-b336-93380d5d3a5c",
   "metadata": {},
   "source": [
    "(person, sitting_in, chair)\n",
    "(person, at, desk)\n",
    "(desk, have_it_on_the_top, laptop)\n",
    "(desk, located_in, bedroom)\n",
    "(desk, near, bed)\n",
    "(room, contains, television)\n",
    "(room, contains, sofa)\n",
    "(room, contains, bottle)\n",
    "(person, wearing, blue shirt)\n",
    "(person, wearing, hat)\n",
    "(desk, have_it_on_the_top, cell phone)\n",
    "(room, contains, remote control)\n",
    "(towel, hanging_nearby, person)\n",
    "(book, can_be_seen_on, desk)\n",
    "(scene, suggests, comfortable living space)\n",
    "(scene, suggests, functional living space)\n",
    "(scene, suggests, space for the person to work)\n",
    "(scene, suggests, space for the person to relax)\n",
    "(scene, suggests, space for the person to entertain)\n",
    "Please note that I've extracted these relations based on the provided input text, and some of them are inferred or assumed based on the context of the text."
   ]
  },
  {
   "cell_type": "code",
   "execution_count": 6,
   "id": "b853746b-0e91-4afc-b1aa-2fc23a907ca4",
   "metadata": {},
   "outputs": [
    {
     "name": "stdout",
     "output_type": "stream",
     "text": [
      "Entities:\n",
      "+--------------------+-------------------------+---------------+\n",
      "| Head               | Span                    | Modifiers     |\n",
      "|--------------------+-------------------------+---------------|\n",
      "| relations          | the important relations | the,important |\n",
      "| objects            | these objects           | these         |\n",
      "| person             | the person              | the           |\n",
      "| chair              | a chair                 | a             |\n",
      "| table              | a table                 | a             |\n",
      "| laptop             | a laptop                | a             |\n",
      "| cup                | a cup                   | a             |\n",
      "| bottle             | a bottle                | a             |\n",
      "| notebook           | a notebook              | a             |\n",
      "| table              | the table               | the           |\n",
      "| person             | the person              | the           |\n",
      "| hat                | a hat                   | a             |\n",
      "| bed                | a bed                   | a             |\n",
      "| presence           | the presence            | the           |\n",
      "| television         | a television            | a             |\n",
      "| bed                | a bed                   | a             |\n",
      "| table              | a table                 | a             |\n",
      "| chair              | a chair                 | a             |\n",
      "| cup                | a cup                   | a             |\n",
      "| bottle             | a bottle                | a             |\n",
      "| laptop             | a laptop                | a             |\n",
      "| notebook           | a notebook              | a             |\n",
      "| handbag            | a handbag               | a             |\n",
      "| person             | the person              | the           |\n",
      "| leisure activities | leisure activities      |               |\n",
      "| bedroom            | their bedroom           |               |\n",
      "| space              | living space            | living        |\n",
      "| presence           | the presence            | the           |\n",
      "| handbag            | a handbag               | a             |\n",
      "| person             | the person              | the           |\n",
      "| belongings         | personal belongings     | personal      |\n",
      "| work materials     | work materials          |               |\n",
      "| them               | them                    |               |\n",
      "+--------------------+-------------------------+---------------+\n",
      "Relations:\n",
      "+-----------+------------+----------------+\n",
      "| Subject   | Relation   | Object         |\n",
      "|-----------+------------+----------------|\n",
      "| relations | among      | objects        |\n",
      "| person    | sitting on | chair          |\n",
      "| person    | with       | laptop         |\n",
      "| person    | with       | notebook       |\n",
      "| notebook  | on         | table          |\n",
      "| person    | wearing    | hat            |\n",
      "| presence  | of         | television     |\n",
      "| presence  | of         | handbag        |\n",
      "| person    | carrying   | belongings     |\n",
      "| person    | carrying   | work materials |\n",
      "| person    | with       | them           |\n",
      "+-----------+------------+----------------+\n"
     ]
    }
   ],
   "source": [
    "# prompt: Find important positional relations among only these objects: person,pillow,laptop,bag,cup,glass,bottle,shoe,chair,glass,bottle,paper,notebook,box,book,bed,table,floor,television,hands.\n",
    "\n",
    "llava_return = 'The important relations among these objects are that the person is sitting on a chair in front of a table, with a laptop, a cup, a bottle, and a notebook on the table. \\\n",
    "                The person is also wearing a hat and has a bed nearby. \\\n",
    "                The presence of a television, a bed, a table, a chair, a cup, a bottle, a laptop, a notebook, and a handbag suggests that the person might be working, studying, or engaging in leisure activities in their bedroom or living space. \\\n",
    "                The presence of a handbag indicates that the person might be carrying personal belongings or work materials with them.'\n",
    "\n",
    "graph = sng_parser.parse(llava_return)\n",
    "# pprint(graph)\n",
    "sng_parser.tprint(graph)"
   ]
  },
  {
   "cell_type": "raw",
   "id": "8d341b95-4efe-4dd8-b729-400d7c0a2ab5",
   "metadata": {},
   "source": [
    "Generate all possible tuples (Entity, Relation, Entity) from quoted text which is describing an image. The tuples show relations between two entities in the sentences. \n",
    "\n",
    "Requirements:\n",
    "1. The relation are limited in following array: [on, behind, in_front_of, on_the_side_of, above, beneath, drinking_from, have_it_on_the_back, wearing, holding, lying_on, covered_by, carrying, eating, leaning_on, sitting_on, twisting, writing_on, standing_on, touching, wiping, at, under, near] You should only use relations I give you. If the relation is not in the array, then discard the tuple or try to find relation with similar meaning.\n",
    "2. Do not infer or assume relations. Only depend on sentences themself.\n",
    "3. Use square brackets to include the results and comma to separate tuples. You can use blank space and change line for readable text. \n",
    "\n",
    "For example:\n",
    "\n",
    "Input test: \"In the image, the woman sits on the bed near a pillow\".\n",
    "Output: [(woman, on, bed),\n",
    "        (woman, near, pillow)]\n",
    "\n",
    "Now, generate tuples of relation for me with this input text:\n",
    "\n",
    "\"The important relations among these objects are that the person is sitting on a chair in front of a table, with a laptop, a cup, a bottle, and a notebook on the table. The person is also wearing a hat and has a bed nearby. The presence of a television, a bed, a table, a chair, a cup, a bottle, a laptop, a notebook, and a handbag suggests that the person might be working, studying, or engaging in leisure activities in their bedroom or living space. The presence of a handbag indicates that the person might be carrying personal belongings or work materials with them.\""
   ]
  },
  {
   "cell_type": "raw",
   "id": "c67b0872-7f42-436b-adca-a5c2eddf944c",
   "metadata": {},
   "source": [
    "I apologize for the incorrect tuple. You are absolutely right; the relation \"table on laptop\" does not make sense. Here are the corrected tuples of relations extracted from the provided input text:\n",
    "\n",
    "lua\n",
    "Copy code\n",
    "[(person, sitting_on, chair),\n",
    " (person, in_front_of, table),\n",
    " (laptop, on_the_side_of, table),\n",
    " (cup, on_the_side_of, table),\n",
    " (bottle, on_the_side_of, table),\n",
    " (notebook, on_the_side_of, table),\n",
    " (person, wearing, hat),\n",
    " (person, near, bed),\n",
    " (person, carrying, handbag)]\n",
    "These corrected tuples reflect the appropriate relations based on the sentences in the provided input text and the specified relations from the given array. Thank you for pointing out the error."
   ]
  },
  {
   "cell_type": "raw",
   "id": "fede54c5-2ff2-4883-b188-62b5046fc83d",
   "metadata": {},
   "source": [
    "Generate all possible tuples (Entity, Relation, Entity) from quoted text which is describing an image. The tuples show relations between two entities in the sentences. \n",
    "\n",
    "Requirements:\n",
    "1. The relation are limited in following array: [on, behind, in_front_of, on_the_side_of, above, beneath, drinking_from, have_it_on_the_back, wearing, holding, lying_on, covered_by, carrying, eating, leaning_on, sitting_on, twisting, writing_on, standing_on, touching, wiping, at, under, near] You should only use relations I give you. If the relation is not in the array, then discard the tuple or try to find relation with similar meaning.\n",
    "2. Do not infer or assume relations. Only depend on sentences themself.\n",
    "3. Use square brackets to include the results and comma to separate tuples. You can use blank space and change line for readable text. Make it a valid Json format.\n",
    "4. The relation should make sense.\n",
    "\n",
    "For example:\n",
    "\n",
    "Input test: \"In the image, the woman sits on the bed near a pillow\".\n",
    "Output: [(woman, on, bed),\n",
    "        (woman, near, pillow)]\n",
    "\n",
    "Now, generate tuples of relation for me with this input text:\n",
    "\n",
    "\"The important relations among these objects are that the person is sitting on a chair in front of a table, with a laptop, a cup, a bottle, and a notebook on the table. The person is also wearing a hat and has a bed nearby. The presence of a television, a bed, a table, a chair, a cup, a bottle, a laptop, a notebook, and a handbag suggests that the person might be working, studying, or engaging in leisure activities in their bedroom or living space. The presence of a handbag indicates that the person might be carrying personal belongings or work materials with them.\""
   ]
  },
  {
   "cell_type": "code",
   "execution_count": null,
   "id": "0d78ee2d-2f62-445c-afab-af0fee63118b",
   "metadata": {},
   "outputs": [],
   "source": [
    "Based on the provided text, here are the tuples of relations generated according to your requirements:\n",
    "\n",
    "json\n",
    "Copy code\n",
    "[\n",
    "    (person, sitting_on, chair),\n",
    "    (chair, in_front_of, table),\n",
    "    (laptop, on, table),\n",
    "    (cup, on, table),\n",
    "    (bottle, on, table),\n",
    "    (notebook, on, table),\n",
    "    (person, wearing, hat),\n",
    "    (person, near, bed),\n",
    "    (television, near, bed),\n",
    "    (bed, near, table),\n",
    "    (table, near, chair),\n",
    "    (cup, near, bottle),\n",
    "    (bottle, near, laptop),\n",
    "    (laptop, near, notebook),\n",
    "    (notebook, near, handbag),\n",
    "    (person, carrying, handbag)\n",
    "]"
   ]
  }
 ],
 "metadata": {
  "kernelspec": {
   "display_name": "seg2",
   "language": "python",
   "name": "seg2"
  },
  "language_info": {
   "codemirror_mode": {
    "name": "ipython",
    "version": 3
   },
   "file_extension": ".py",
   "mimetype": "text/x-python",
   "name": "python",
   "nbconvert_exporter": "python",
   "pygments_lexer": "ipython3",
   "version": "3.8.18"
  }
 },
 "nbformat": 4,
 "nbformat_minor": 5
}
