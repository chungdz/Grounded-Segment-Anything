{
 "cells": [
  {
   "cell_type": "code",
   "execution_count": 1,
   "id": "c48ea4d9-8fe7-4b63-bcf1-f6bba567b667",
   "metadata": {},
   "outputs": [],
   "source": [
    "import json\n",
    "import sng_parser\n",
    "from pprint import pprint"
   ]
  },
  {
   "cell_type": "code",
   "execution_count": 2,
   "id": "a1773a23-09c1-4901-bebd-029dcac6d53a",
   "metadata": {},
   "outputs": [],
   "source": [
    "annotations = json.load(open('mapping.json', 'r'))\n",
    "objects = json.load(open('objects.json', 'r'))"
   ]
  },
  {
   "cell_type": "code",
   "execution_count": 3,
   "id": "5332be4c-2698-4ded-96b0-a3148f6b4a10",
   "metadata": {},
   "outputs": [
    {
     "data": {
      "text/plain": [
       "{'bbox': [[222.1, 143.83, 479.88, 244.94], [24.3, 71.44, 259.24, 268.2]],\n",
       " 'bbox_labels': ['table', 'person'],\n",
       " 'rel_pairs': [['person', 'table']],\n",
       " 'rel_labels': ['in_front_of'],\n",
       " 'actions': ['sit at a table']}"
      ]
     },
     "execution_count": 3,
     "metadata": {},
     "output_type": "execute_result"
    }
   ],
   "source": [
    "annotations['001YG']['000089']"
   ]
  },
  {
   "cell_type": "code",
   "execution_count": 4,
   "id": "aeda5be5-bf3a-48bb-9e89-47fd35e97a21",
   "metadata": {},
   "outputs": [],
   "source": [
    "phrase = objects['001YG']['000089']"
   ]
  },
  {
   "cell_type": "code",
   "execution_count": 5,
   "id": "2882e579-dbc2-4b61-b168-430ff873e8f8",
   "metadata": {},
   "outputs": [
    {
     "data": {
      "text/plain": [
       "['laptop',\n",
       " 'table',\n",
       " 'chair',\n",
       " 'phone',\n",
       " 'blanket towel',\n",
       " 'pillow',\n",
       " 'bottle',\n",
       " 'bottle',\n",
       " 'pillow',\n",
       " 'box book',\n",
       " 'person',\n",
       " 'television',\n",
       " 'sofa couch',\n",
       " 'clothes towel',\n",
       " 'pillow',\n",
       " '##knob',\n",
       " 'bed']"
      ]
     },
     "execution_count": 5,
     "metadata": {},
     "output_type": "execute_result"
    }
   ],
   "source": [
    "phrase['labels']"
   ]
  },
  {
   "cell_type": "code",
   "execution_count": 6,
   "id": "c2a136d5-d079-42d8-a857-fc7bbc461891",
   "metadata": {},
   "outputs": [],
   "source": [
    "all_obj = set(\"person,broom,picture,closet,cabinet,blanket,window,table,paper,notebook,refrigerator,pillow,cup,glass,bottle,shelf,shoe,medicine,phone,camera,box,sandwich,book,bed,clothes,mirror,sofa,couch,floor,bag,dish,laptop,door,towel,food,chair,doorknob,doorway,groceries,hands,light,vacuum,television\".split(','))"
   ]
  },
  {
   "cell_type": "code",
   "execution_count": 7,
   "id": "ec8b12b0-4eb3-464c-b49b-46b2db0fd447",
   "metadata": {},
   "outputs": [
    {
     "data": {
      "text/plain": [
       "{'bed',\n",
       " 'blanket',\n",
       " 'bottle',\n",
       " 'box',\n",
       " 'chair',\n",
       " 'clothes',\n",
       " 'laptop',\n",
       " 'person',\n",
       " 'phone',\n",
       " 'pillow',\n",
       " 'sofa',\n",
       " 'table',\n",
       " 'television'}"
      ]
     },
     "execution_count": 7,
     "metadata": {},
     "output_type": "execute_result"
    }
   ],
   "source": [
    "filtered = set()\n",
    "for item in phrase['labels']:\n",
    "    arr = item.split(' ')\n",
    "    if arr[0] in all_obj:\n",
    "        filtered.add(arr[0])\n",
    "filtered"
   ]
  },
  {
   "cell_type": "code",
   "execution_count": 8,
   "id": "a47d57da-6c29-4c08-9621-17b4900a9345",
   "metadata": {},
   "outputs": [
    {
     "data": {
      "text/plain": [
       "'Find important positional relations among only these objects: box,pillow,blanket,table,person,bed,bottle,clothes,phone,sofa,television,chair,laptop'"
      ]
     },
     "execution_count": 8,
     "metadata": {},
     "output_type": "execute_result"
    }
   ],
   "source": [
    "llava_prompt_1 = \"Find important positional relations among only these objects: \" + ','.join(filtered)\n",
    "llava_prompt_1"
   ]
  },
  {
   "cell_type": "code",
   "execution_count": 9,
   "id": "3dabccc3-4446-4a69-9637-cdd6a9f2bc4d",
   "metadata": {},
   "outputs": [
    {
     "data": {
      "text/plain": [
       "'In the image, the person is sitting on a chair in front of a table, which has a laptop on it. The table is located next to a bed, and there is a bottle on the table as well. A sofa is also present in the room, and a television is positioned nearby. A phone is placed on the table, and a blanket and clothes are located on the bed. The person is wearing a blue shirt, and there is a computer mouse on the table.'"
      ]
     },
     "execution_count": 9,
     "metadata": {},
     "output_type": "execute_result"
    }
   ],
   "source": [
    "llava_return_1 = \"In the image, the person is sitting on a chair in front of a table, which has a laptop on it. The table is located next to a bed, and there is a bottle on the table as well. A sofa is also present in the room, and a television is positioned nearby. A phone is placed on the table, and a blanket and clothes are located on the bed. The person is wearing a blue shirt, and there is a computer mouse on the table.\"\n",
    "llava_return_1"
   ]
  },
  {
   "cell_type": "raw",
   "id": "313764f8-f77f-4c64-9449-250e2347dbec",
   "metadata": {},
   "source": [
    "Generate at most 8 tuples (Entity, Relation, Entity) from quoted text which is describing the image. The tuples show most important relations between two entities in the sentences. \n",
    "\n",
    "Requirements:\n",
    "1. The relation are limited in following array: [on, behind, in_front_of, on_the_side_of, above, beneath, drinking_from, have_it_on_the_back, wearing, holding, lying_on, covered_by, carrying, eating, leaning_on, sitting_on, twisting, writing_on, standing_on, touching, wiping, at, under, near] You should only use relations I give you. If the relation is not in the array, then discard the tuple or try to find relation with similar meaning.\n",
    "2. Do not infer or assume relations. Only depend on sentences themself.\n",
    "3. Use square brackets to include the results and comma to separate tuples. You can use blank space and change line for readable text. Make it a valid Json format.\n",
    "4. The relation should make sense.\n",
    "\n",
    "For example:\n",
    "\n",
    "Input test: \"In the image, the woman sits on the bed near a pillow\".\n",
    "Output: [(\"woman\", \"on\", \"bed\"),\n",
    "        (\"woman\", \"near\", \"pillow\")]\n",
    "\n",
    "Now, generate tuples of relation for me with this input text:\n",
    "\n",
    "\"In the image, the person is sitting on a chair in front of a table, which has a laptop on it. The table is located next to a bed, and there is a bottle on the table as well. A sofa is also present in the room, and a television is positioned nearby. A phone is placed on the table, and a blanket and clothes are located on the bed. The person is wearing a blue shirt, and there is a computer mouse on the table.\""
   ]
  },
  {
   "cell_type": "code",
   "execution_count": null,
   "id": "a6221605-5797-4e78-a96f-fb8a016cfe89",
   "metadata": {},
   "outputs": [],
   "source": [
    "llava_return = [(\"person\", \"sitting\", \"chair\"), (\"person\", \"in front of\", \"table\"), (\"table\", \"on\", \"floor\")]"
   ]
  },
  {
   "cell_type": "code",
   "execution_count": null,
   "id": "07204d81-8790-4560-a029-d3a7830b4cd5",
   "metadata": {},
   "outputs": [],
   "source": [
    "Sure, here are the tuples of relations for the given input text:\n",
    "\n",
    "[\n",
    "(\"person\", \"sitting\", \"chair\"),\n",
    "(\"table\", \"in_front_of\", \"person\"),\n",
    "(\"laptop\", \"on\", \"table\"),\n",
    "(\"table\", \"next_to\", \"bed\"),\n",
    "(\"bed\", \"near\", \"sofa\"),\n",
    "(\"television\", \"positioned\", \"nearby\"),\n",
    "(\"phone\", \"on\", \"table\"),\n",
    "(\"blanket\", \"on\", \"bed\"),\n",
    "(\"clothes\", \"on\", \"bed\"),\n",
    "(\"person\", \"wearing\", \"blue_shirt\"),\n",
    "(\"computer_mouse\", \"on\", \"table\")\n",
    "]\n",
    "\n",
    "Note that I've used the relation \"next_to\" instead of \"beside\" since it's not in the allowed relation array. Also, I've ignored the word \"also\" in the sentence \"A sofa is also present in the room\" since it doesn't contribute to any relevant relation."
   ]
  },
  {
   "cell_type": "code",
   "execution_count": null,
   "id": "932cba54-7e0e-455d-9434-25ec2c196675",
   "metadata": {},
   "outputs": [],
   "source": [
    "Generate tuples [Entity, Relation, Entity] from quoted text which is describing the image. The tuples show most important relations between two entities in the sentences. \n",
    "\n",
    "Requirements:\n",
    "1. The relation are limited in following array: [on, behind, in_front_of, on_the_side_of, above, beneath, drinking_from, have_it_on_the_back, wearing, holding, lying_on, covered_by, carrying, eating, leaning_on, sitting_on, twisting, writing_on, standing_on, touching, wiping, at, under, near] You should only use relations I give you. If the relation is not in the array, then discard the tuple or try to find relation with similar meaning.\n",
    "2. Do not infer or assume relations. Only depend on sentences themself.\n",
    "3. Use a valid Json format to form the output. Start and end with curly brackets.\n",
    "4. The relation should make sense.\n",
    "5. The output should contain at most 8 tuples\n",
    "\n",
    "For example:\n",
    "\n",
    "Input test: \"In the image, the woman sits on the bed near a pillow\".\n",
    "Output: {[[\"woman\", \"on\", \"bed\"],\n",
    "        [\"woman\", \"near\", \"pillow\"]]}\n",
    "\n",
    "Now, generate tuples of relation for me with this input text:\n",
    "\n",
    "\"In the image, the person is sitting on a chair in front of a table, which has a laptop on it. The table is located next to a bed, and there is a bottle on the table as well. A sofa is also present in the room, and a television is positioned nearby. A phone is placed on the table, and a blanket and clothes are located on the bed. The person is wearing a blue shirt, and there is a computer mouse on the table.\""
   ]
  },
  {
   "cell_type": "code",
   "execution_count": 17,
   "id": "9f3a8371-dd47-46aa-9603-3ceb7e70e936",
   "metadata": {},
   "outputs": [],
   "source": [
    "llama2_return = '''Sure! Here are the tuples of relations for the given input text:\n",
    "\n",
    "{\n",
    "[[\"person\", \"sitting\", \"chair\"],\n",
    "[\"table\", \"in_front_of\", \"person\"],\n",
    "[\"laptop\", \"on\", \"table\"],\n",
    "[\"table\", \"next_to\", \"bed\"],\n",
    "[\"bed\", \"near\", \"sofa\"],\n",
    "[\"television\", \"positioned\", \"nearby\"],\n",
    "[\"phone\", \"on\", \"table\"],\n",
    "[\"blanket\", \"on\", \"bed\"],\n",
    "[\"clothes\", \"on\", \"bed\"],\n",
    "[\"person\", \"wearing\", \"blue_shirt\"],\n",
    "[\"computer_mouse\", \"on\", \"table\"]\n",
    "]\n",
    "}\n",
    "\n",
    "Note that I've used the following relations from your array:\n",
    "\n",
    "\"sitting\" instead of \"on\" to indicate that the person is sitting on the chair\n",
    "\"in_front_of\" instead of \"on\" to indicate that the table is in front of the person\n",
    "\"next_to\" instead of \"on\" to indicate that the table is located next to the bed\n",
    "\"'''"
   ]
  },
  {
   "cell_type": "code",
   "execution_count": 20,
   "id": "a53d82df-7c1f-4ac3-9ce3-603d356900dd",
   "metadata": {},
   "outputs": [
    {
     "data": {
      "text/plain": [
       "'\\n[[\"person\", \"sitting\", \"chair\"],\\n[\"table\", \"in_front_of\", \"person\"],\\n[\"laptop\", \"on\", \"table\"],\\n[\"table\", \"next_to\", \"bed\"],\\n[\"bed\", \"near\", \"sofa\"],\\n[\"television\", \"positioned\", \"nearby\"],\\n[\"phone\", \"on\", \"table\"],\\n[\"blanket\", \"on\", \"bed\"],\\n[\"clothes\", \"on\", \"bed\"],\\n[\"person\", \"wearing\", \"blue_shirt\"],\\n[\"computer_mouse\", \"on\", \"table\"]\\n]\\n'"
      ]
     },
     "execution_count": 20,
     "metadata": {},
     "output_type": "execute_result"
    }
   ],
   "source": [
    "jsonstart = llama2_return.index('{')\n",
    "jsonend = llama2_return.index('}')\n",
    "jsonstr = llama2_return[jsonstart: jsonend].strip(\"{}\")\n",
    "jsonstr"
   ]
  },
  {
   "cell_type": "code",
   "execution_count": 21,
   "id": "f2f9bea7-b606-444f-885e-1e8d64f8ce65",
   "metadata": {},
   "outputs": [],
   "source": [
    "res = json.loads(jsonstr)"
   ]
  },
  {
   "cell_type": "code",
   "execution_count": 22,
   "id": "8d15bcb9-c519-49cf-a96d-3b1c85e5247b",
   "metadata": {},
   "outputs": [
    {
     "data": {
      "text/plain": [
       "[['person', 'sitting', 'chair'],\n",
       " ['table', 'in_front_of', 'person'],\n",
       " ['laptop', 'on', 'table'],\n",
       " ['table', 'next_to', 'bed'],\n",
       " ['bed', 'near', 'sofa'],\n",
       " ['television', 'positioned', 'nearby'],\n",
       " ['phone', 'on', 'table'],\n",
       " ['blanket', 'on', 'bed'],\n",
       " ['clothes', 'on', 'bed'],\n",
       " ['person', 'wearing', 'blue_shirt'],\n",
       " ['computer_mouse', 'on', 'table']]"
      ]
     },
     "execution_count": 22,
     "metadata": {},
     "output_type": "execute_result"
    }
   ],
   "source": [
    "res"
   ]
  },
  {
   "cell_type": "code",
   "execution_count": null,
   "id": "bf047203-8b20-4805-8730-d0fde52be039",
   "metadata": {},
   "outputs": [],
   "source": []
  }
 ],
 "metadata": {
  "kernelspec": {
   "display_name": "seg2",
   "language": "python",
   "name": "seg2"
  },
  "language_info": {
   "codemirror_mode": {
    "name": "ipython",
    "version": 3
   },
   "file_extension": ".py",
   "mimetype": "text/x-python",
   "name": "python",
   "nbconvert_exporter": "python",
   "pygments_lexer": "ipython3",
   "version": "3.8.18"
  }
 },
 "nbformat": 4,
 "nbformat_minor": 5
}
